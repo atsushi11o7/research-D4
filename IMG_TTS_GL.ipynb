{
 "cells": [
  {
   "cell_type": "code",
   "execution_count": 1,
   "id": "b0470096",
   "metadata": {},
   "outputs": [
    {
     "name": "stdout",
     "output_type": "stream",
     "text": [
      "4600\n"
     ]
    }
   ],
   "source": [
    "import glob\n",
    "import os\n",
    "\n",
    "WAV_DIR = \"F:/ROHAN4600マルチモーダルデータベース/ROHAN4600_zundamon_voice/*\"\n",
    "OUTPUT_PATH = \"F:/ROHAN4600マルチモーダルデータベース/normalized_db_data/\"\n",
    "filelist = glob.glob(WAV_DIR)\n",
    "print(len(filelist))"
   ]
  },
  {
   "cell_type": "code",
   "execution_count": 2,
   "id": "3b21e594",
   "metadata": {},
   "outputs": [
    {
     "name": "stdout",
     "output_type": "stream",
     "text": [
      "100 / 4600\n",
      "200 / 4600\n",
      "300 / 4600\n",
      "400 / 4600\n",
      "500 / 4600\n",
      "600 / 4600\n",
      "700 / 4600\n",
      "800 / 4600\n",
      "900 / 4600\n",
      "1000 / 4600\n",
      "1100 / 4600\n",
      "1200 / 4600\n",
      "1300 / 4600\n",
      "1400 / 4600\n",
      "1500 / 4600\n",
      "1600 / 4600\n",
      "1700 / 4600\n",
      "1800 / 4600\n",
      "1900 / 4600\n",
      "2000 / 4600\n",
      "2100 / 4600\n",
      "2200 / 4600\n",
      "2300 / 4600\n",
      "2400 / 4600\n",
      "2500 / 4600\n",
      "2600 / 4600\n",
      "2700 / 4600\n",
      "2800 / 4600\n",
      "2900 / 4600\n",
      "3000 / 4600\n",
      "3100 / 4600\n",
      "3200 / 4600\n",
      "3300 / 4600\n",
      "3400 / 4600\n",
      "3500 / 4600\n",
      "3600 / 4600\n",
      "3700 / 4600\n",
      "3800 / 4600\n",
      "3900 / 4600\n",
      "4000 / 4600\n",
      "4100 / 4600\n",
      "4200 / 4600\n",
      "4300 / 4600\n",
      "4400 / 4600\n",
      "4500 / 4600\n",
      "4600 / 4600\n"
     ]
    }
   ],
   "source": [
    "import torch\n",
    "import librosa\n",
    "import librosa.display\n",
    "import numpy as np\n",
    "import matplotlib.pyplot as plt\n",
    "\n",
    "sr = 16000\n",
    "n_fft = 800\n",
    "hop_length = 200\n",
    "win_length = 800\n",
    "n_mels = 80\n",
    "\n",
    "min_value = -80\n",
    "max_value = 0\n",
    "\n",
    "i = 0\n",
    "all = len(filelist)\n",
    "\n",
    "for filedir in filelist:\n",
    "    i += 1\n",
    "    waveform, _ = librosa.load(filedir, sr=sr)\n",
    "\n",
    "    # メルスペクトログラムの計算\n",
    "    mel_spectrogram = librosa.feature.melspectrogram(\n",
    "        y=waveform,\n",
    "        sr=sr,\n",
    "        n_fft=n_fft,\n",
    "        hop_length=hop_length,\n",
    "        n_mels=n_mels\n",
    "    )\n",
    "\n",
    "    # 対数変換\n",
    "    mel_spectrogram = librosa.power_to_db(mel_spectrogram, ref=np.max)\n",
    "    \n",
    "    # 正規化\n",
    "    normalized_mel_spectrogram = (mel_spectrogram - min_value) / (max_value - min_value)\n",
    "\n",
    "    filename = os.path.splitext(filedir)\n",
    "    filename = os.path.basename(filename[0])\n",
    "    savedir = OUTPUT_PATH + filename + \".npy\"\n",
    "\n",
    "    np.save(savedir, normalized_mel_spectrogram.T)\n",
    "\n",
    "    if i%100 == 0:\n",
    "        print(i, \"/\", all)"
   ]
  },
  {
   "cell_type": "code",
   "execution_count": 3,
   "id": "d70e91b6",
   "metadata": {},
   "outputs": [
    {
     "name": "stdout",
     "output_type": "stream",
     "text": [
      "F:/ROHAN4600マルチモーダルデータベース/normalized_db_data\\ROHAN4600_0001.npy\n"
     ]
    }
   ],
   "source": [
    "OUTPUT_TEST_PATH = \"F:/ROHAN4600マルチモーダルデータベース/normalized_db_data/*\"\n",
    "filelist = glob.glob(OUTPUT_TEST_PATH)\n",
    "print(filelist[0])"
   ]
  },
  {
   "cell_type": "code",
   "execution_count": 8,
   "id": "e0d9e497",
   "metadata": {},
   "outputs": [],
   "source": [
    "mel = np.load(filelist[0]).T"
   ]
  },
  {
   "cell_type": "code",
   "execution_count": 9,
   "id": "4afb3b4b",
   "metadata": {},
   "outputs": [],
   "source": [
    "restored_mel = mel * (max_value - min_value) + min_value"
   ]
  },
  {
   "cell_type": "code",
   "execution_count": 10,
   "id": "dc7d35c4",
   "metadata": {},
   "outputs": [],
   "source": [
    "power_spec = librosa.db_to_power(restored_mel)\n",
    "\n",
    "inverse_mel_spectrogram = librosa.feature.inverse.mel_to_stft(\n",
    "    M=power_spec,\n",
    "    sr=sr,\n",
    "    n_fft=n_fft\n",
    ")\n",
    "\n",
    "reconstructed_waveform = librosa.griffinlim(\n",
    "    inverse_mel_spectrogram,\n",
    "    n_iter=100,\n",
    "    hop_length=hop_length,\n",
    "    win_length=win_length\n",
    ")"
   ]
  },
  {
   "cell_type": "code",
   "execution_count": 11,
   "id": "c47f3781",
   "metadata": {},
   "outputs": [],
   "source": [
    "WAV_DIR = \"F:/ROHAN4600マルチモーダルデータベース/wav_outs/\"\n",
    "\n",
    "import soundfile as sf\n",
    "\n",
    "# 音声波形を保存するパスとサンプリングレートを指定します\n",
    "output_path = WAV_DIR + '019.wav'\n",
    "sr = 16000  # 例として44100Hzのサンプリングレートを使用します\n",
    "\n",
    "# 音声波形を保存します\n",
    "sf.write(output_path, reconstructed_waveform, sr)"
   ]
  },
  {
   "cell_type": "code",
   "execution_count": null,
   "id": "8a4cb4d3",
   "metadata": {},
   "outputs": [],
   "source": []
  }
 ],
 "metadata": {
  "kernelspec": {
   "display_name": "Python 3 (ipykernel)",
   "language": "python",
   "name": "python3"
  },
  "language_info": {
   "codemirror_mode": {
    "name": "ipython",
    "version": 3
   },
   "file_extension": ".py",
   "mimetype": "text/x-python",
   "name": "python",
   "nbconvert_exporter": "python",
   "pygments_lexer": "ipython3",
   "version": "3.9.16"
  }
 },
 "nbformat": 4,
 "nbformat_minor": 5
}
