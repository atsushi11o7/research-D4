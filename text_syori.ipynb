{
 "cells": [
  {
   "cell_type": "code",
   "execution_count": 32,
   "id": "ee1d1299",
   "metadata": {},
   "outputs": [
    {
     "name": "stdout",
     "output_type": "stream",
     "text": [
      "4600\n"
     ]
    }
   ],
   "source": [
    "import glob\n",
    "import os\n",
    "import numpy as np\n",
    "\n",
    "TEXT_DIR = \"F:/ROHAN4600マルチモーダルデータベース/ROHAN4600_zundamon_voice_label/*\"  # 可変\n",
    "OUTPUT_PATH = \"F:/ROHAN4600マルチモーダルデータベース/text_data/\"\n",
    "\n",
    "filelist = glob.glob(TEXT_DIR)\n",
    "print(len(filelist))"
   ]
  },
  {
   "cell_type": "code",
   "execution_count": 33,
   "id": "89410a24",
   "metadata": {},
   "outputs": [],
   "source": [
    "# 語彙の定義\n",
    "characters = \"abcdefghijklmnopqrstuvwxyzINU\"\n",
    "# その他特殊記号\n",
    "extra_symbols = [\n",
    "    \"^\",  # 文の先頭を表す特殊記号 <SOS>\n",
    "    \"$\",  # 文の末尾を表す特殊記号 <EOS>\n",
    "]\n",
    "_pad = \"~\"\n",
    "\n",
    "# NOTE: パディングを 0 番目に配置\n",
    "symbols = [_pad] + extra_symbols + list(characters)\n",
    "\n",
    "# 文字列⇔数値の相互変換のための辞書\n",
    "_symbol_to_id = {s: i for i, s in enumerate(symbols)}\n",
    "_id_to_symbol = {i: s for i, s in enumerate(symbols)}"
   ]
  },
  {
   "cell_type": "code",
   "execution_count": 34,
   "id": "83dea439",
   "metadata": {},
   "outputs": [
    {
     "name": "stdout",
     "output_type": "stream",
     "text": [
      "{'~': 0, '^': 1, '$': 2, 'a': 3, 'b': 4, 'c': 5, 'd': 6, 'e': 7, 'f': 8, 'g': 9, 'h': 10, 'i': 11, 'j': 12, 'k': 13, 'l': 14, 'm': 15, 'n': 16, 'o': 17, 'p': 18, 'q': 19, 'r': 20, 's': 21, 't': 22, 'u': 23, 'v': 24, 'w': 25, 'x': 26, 'y': 27, 'z': 28, 'I': 29, 'N': 30, 'U': 31}\n"
     ]
    }
   ],
   "source": [
    "print(_symbol_to_id)"
   ]
  },
  {
   "cell_type": "code",
   "execution_count": 35,
   "id": "1b4b7402",
   "metadata": {},
   "outputs": [],
   "source": [
    "#ラベルファイルからテキスト情報を取得する関数\n",
    "def label_to_text(label):\n",
    "    sl = label.split('\\n')\n",
    "    f = 0\n",
    "    text = ''\n",
    "    for phoneme in sl:\n",
    "        p = phoneme.split(' ')\n",
    "        if p[2] == 'sil':\n",
    "            if f == 0:\n",
    "                f = 1\n",
    "            else:\n",
    "                break\n",
    "        else:\n",
    "            text += p[2]\n",
    "    return text\n",
    "\n",
    "def text_to_sequence(text):\n",
    "\n",
    "    # <SOS>\n",
    "    seq = [_symbol_to_id[\"^\"]]\n",
    "\n",
    "    # 本文\n",
    "    seq += [_symbol_to_id[s] for s in text]\n",
    "\n",
    "    # <EOS>\n",
    "    seq.append(_symbol_to_id[\"$\"])\n",
    "\n",
    "    return seq"
   ]
  },
  {
   "cell_type": "code",
   "execution_count": 36,
   "id": "17d2bcf8",
   "metadata": {},
   "outputs": [
    {
     "name": "stdout",
     "output_type": "stream",
     "text": [
      "[1, 10, 7, 14, 14, 17, 2]\n"
     ]
    }
   ],
   "source": [
    "print(text_to_sequence(\"hello\"))"
   ]
  },
  {
   "cell_type": "code",
   "execution_count": 41,
   "id": "e97a1f6e",
   "metadata": {},
   "outputs": [
    {
     "name": "stdout",
     "output_type": "stream",
     "text": [
      "100 / 4600\n",
      "200 / 4600\n",
      "300 / 4600\n",
      "400 / 4600\n",
      "500 / 4600\n",
      "600 / 4600\n",
      "700 / 4600\n",
      "800 / 4600\n",
      "900 / 4600\n",
      "1000 / 4600\n",
      "1100 / 4600\n",
      "1200 / 4600\n",
      "1300 / 4600\n",
      "1400 / 4600\n",
      "1500 / 4600\n",
      "1600 / 4600\n",
      "1700 / 4600\n",
      "1800 / 4600\n",
      "1900 / 4600\n",
      "2000 / 4600\n",
      "2100 / 4600\n",
      "2200 / 4600\n",
      "2300 / 4600\n",
      "2400 / 4600\n",
      "2500 / 4600\n",
      "2600 / 4600\n",
      "2700 / 4600\n",
      "2800 / 4600\n",
      "2900 / 4600\n",
      "3000 / 4600\n",
      "3100 / 4600\n",
      "3200 / 4600\n",
      "3300 / 4600\n",
      "3400 / 4600\n",
      "3500 / 4600\n",
      "3600 / 4600\n",
      "3700 / 4600\n",
      "3800 / 4600\n",
      "3900 / 4600\n",
      "4000 / 4600\n",
      "4100 / 4600\n",
      "4200 / 4600\n",
      "4300 / 4600\n",
      "4400 / 4600\n",
      "4500 / 4600\n",
      "4600 / 4600\n"
     ]
    }
   ],
   "source": [
    "i = 0\n",
    "all = len(folderlist)\n",
    "a = []\n",
    "\n",
    "for file in filelist:\n",
    "    label = open(file).read()\n",
    "    text = label_to_text(label)\n",
    "    sequence = text_to_sequence(text)\n",
    "    #print(sequence)\n",
    "    \n",
    "    filename = os.path.splitext(file)\n",
    "    filename = os.path.basename(filename[0])\n",
    "    savedir = OUTPUT_PATH + filename + \".npy\"\n",
    "    #print(savedir)\n",
    "    \n",
    "    arr_seq = np.array(sequence)\n",
    "    #rint(arr_seq)\n",
    "    np.save(savedir, arr_seq)\n",
    "    \n",
    "    i += 1\n",
    "    if i%100 == 0:\n",
    "        print(i, \"/\", all)\n"
   ]
  },
  {
   "cell_type": "code",
   "execution_count": null,
   "id": "47e7356c",
   "metadata": {},
   "outputs": [],
   "source": []
  },
  {
   "cell_type": "code",
   "execution_count": null,
   "id": "e43934e8",
   "metadata": {},
   "outputs": [],
   "source": []
  },
  {
   "cell_type": "code",
   "execution_count": null,
   "id": "7d02a508",
   "metadata": {},
   "outputs": [],
   "source": []
  },
  {
   "cell_type": "code",
   "execution_count": null,
   "id": "2b9b583c",
   "metadata": {},
   "outputs": [],
   "source": []
  },
  {
   "cell_type": "code",
   "execution_count": null,
   "id": "f73ef795",
   "metadata": {},
   "outputs": [],
   "source": []
  }
 ],
 "metadata": {
  "kernelspec": {
   "display_name": "Python 3 (ipykernel)",
   "language": "python",
   "name": "python3"
  },
  "language_info": {
   "codemirror_mode": {
    "name": "ipython",
    "version": 3
   },
   "file_extension": ".py",
   "mimetype": "text/x-python",
   "name": "python",
   "nbconvert_exporter": "python",
   "pygments_lexer": "ipython3",
   "version": "3.10.8"
  }
 },
 "nbformat": 4,
 "nbformat_minor": 5
}
