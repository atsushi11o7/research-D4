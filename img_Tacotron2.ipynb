{
 "cells": [
  {
   "cell_type": "markdown",
   "id": "f20ea058",
   "metadata": {},
   "source": [
    "# DataLoaderの実装"
   ]
  },
  {
   "cell_type": "code",
   "execution_count": 1,
   "id": "628bc77b",
   "metadata": {},
   "outputs": [],
   "source": [
    "# dataset関数の実装\n",
    "\n",
    "import numpy as np\n",
    "from torch.utils.data import Dataset\n",
    "import matplotlib.pyplot as plt\n",
    "\n",
    "class Dataset(Dataset):\n",
    "    def __init__(self, text_paths, mel_paths, img_paths):\n",
    "        self.text_paths = text_paths\n",
    "        self.mel_paths = mel_paths\n",
    "        self.img_paths = img_paths\n",
    "        \n",
    "    def __getitem__(self, index):\n",
    "        return np.load(self.text_paths[index]), np.load(self.mel_paths[index]), np.load(self.img_paths[index])\n",
    "\n",
    "    def __len__(self):\n",
    "        return len(self.text_paths)"
   ]
  },
  {
   "cell_type": "code",
   "execution_count": 2,
   "id": "0e443629",
   "metadata": {},
   "outputs": [],
   "source": [
    "# collate_fn関数の実装\n",
    "\n",
    "def pad_1d(x, max_len, constant_values=0):\n",
    "    \"\"\"\n",
    "    1次元のテンソルをパディングする関数\n",
    "\n",
    "    PARAMS\n",
    "    -------\n",
    "    x: パディングするテンソル\n",
    "    max_len: パディングする長さ\n",
    "    constant_values: パディングの値\n",
    "\n",
    "    RETURNS\n",
    "    -------\n",
    "    x: パディング済みのテンソル\n",
    "    \"\"\"\n",
    "    x = np.pad(\n",
    "        x,\n",
    "        (0, max_len - len(x)),\n",
    "        mode = \"constant\",\n",
    "        constant_values=constant_values,\n",
    "    )\n",
    "    return x\n",
    "\n",
    "def pad_2d(x, max_len, constant_values=0):\n",
    "    \"\"\"\n",
    "    2次元のテンソルをパディングする関数\n",
    "\n",
    "    PARAMS\n",
    "    -------\n",
    "    x: パディングするテンソル\n",
    "    max_len: パディングする長さ\n",
    "    constant_values: パディングの値\n",
    "\n",
    "    RETURNS\n",
    "    -------\n",
    "    x: パディング済みのテンソル\n",
    "    \"\"\"\n",
    "    x = np.pad(\n",
    "        x,\n",
    "        [(0, max_len - len(x)), (0, 0)],\n",
    "        mode=\"constant\",\n",
    "        constant_values=constant_values,\n",
    "    )\n",
    "    return x\n",
    "\n",
    "def collate_fn(batch):\n",
    "    \"\"\"\n",
    "    PARAMS\n",
    "    -------\n",
    "    batch: タプルのリスト(text, mel)\n",
    "\n",
    "    RETURNS\n",
    "    -------\n",
    "\n",
    "    MEMO\n",
    "    -------\n",
    "    torch.from.numpyでnumpyのArrayからtorchのTensorに変換\n",
    "\n",
    "    \"\"\"\n",
    "    xs = [x[0] for x in batch]  # text list\n",
    "    ys = [x[1] for x in batch]  # mel list\n",
    "    zs = [x[2] for x in batch]  # img list\n",
    "    text_lens = [len(x) for x in xs]  # text_len list\n",
    "    mel_lens = [len(y) for y in ys]  # mel_len list\n",
    "    img_lens = [len(z) for z in zs]  # img_len list\n",
    "    text_max_len = max(text_lens)\n",
    "    mel_max_len = max(mel_lens)\n",
    "    x_batch = torch.stack([torch.from_numpy(pad_1d(x, text_max_len)) for x in xs])\n",
    "    y_batch = torch.stack([torch.from_numpy(pad_2d(y, mel_max_len)) for y in ys])\n",
    "    z_batch = torch.stack([torch.from_numpy(pad_2d(z, mel_max_len)) for z in zs])\n",
    "    text_lens = torch.tensor(text_lens, dtype=torch.long)\n",
    "    mel_lens = torch.tensor(mel_lens, dtype=torch.long)\n",
    "    \n",
    "    return x_batch, y_batch, z_batch, text_lens, mel_lens"
   ]
  },
  {
   "cell_type": "code",
   "execution_count": 3,
   "id": "c5f3402f",
   "metadata": {},
   "outputs": [],
   "source": [
    "import glob\n",
    "import torch\n",
    "from torch.utils.data import DataLoader\n",
    "\n",
    "TEXT_DIR = \"F:/ROHAN4600マルチモーダルデータベース/text_data/*\"\n",
    "MEL_DIR = \"F:/ROHAN4600マルチモーダルデータベース/normalized_db_data/*\"\n",
    "IMG_DIR = \"F:/ROHAN4600マルチモーダルデータベース/img_data2/*\"\n",
    "\n",
    "textlist = sorted(glob.glob(TEXT_DIR))\n",
    "mellist = sorted(glob.glob(MEL_DIR))\n",
    "imglist = sorted(glob.glob(IMG_DIR))\n",
    "#print(mellist)\n",
    "\n",
    "dataset = Dataset(textlist, mellist, imglist)\n",
    "#batch_size = 32\n",
    "#data_loader = DataLoader(dataset, batch_size=batch_size, collate_fn=collate_fn, shuffle=True)"
   ]
  },
  {
   "cell_type": "code",
   "execution_count": 4,
   "id": "5e80049c",
   "metadata": {},
   "outputs": [],
   "source": [
    "n_samples = len(dataset)\n",
    "train_size = int(len(dataset) * 0.9)\n",
    "test_size = n_samples - train_size\n",
    "#print(train_size)\n",
    "#print(test_size)\n",
    "\n",
    "train_dataset, test_dataset = torch.utils.data.random_split(dataset, [train_size, test_size])\n",
    "\n",
    "#print(len(train_dataset))\n",
    "#print(len(test_dataset))\n",
    "\n",
    "batch_size = 16\n",
    "train_loader = DataLoader(train_dataset, batch_size=batch_size, collate_fn=collate_fn, shuffle=True)\n",
    "test_loader = DataLoader(test_dataset, batch_size=batch_size, collate_fn=collate_fn, shuffle=True)"
   ]
  },
  {
   "cell_type": "code",
   "execution_count": 5,
   "id": "1dd25649",
   "metadata": {},
   "outputs": [
    {
     "name": "stdout",
     "output_type": "stream",
     "text": [
      "4140\n",
      "460\n",
      "259\n",
      "29\n"
     ]
    }
   ],
   "source": [
    "print(len(train_dataset))\n",
    "print(len(test_dataset))\n",
    "print(len(train_loader))\n",
    "print(len(test_loader))"
   ]
  },
  {
   "cell_type": "code",
   "execution_count": 6,
   "id": "8a4c28c5",
   "metadata": {},
   "outputs": [
    {
     "name": "stdout",
     "output_type": "stream",
     "text": [
      "(16, 92)\n",
      "(16, 1125, 80)\n",
      "(16, 1125, 512)\n",
      "tensor([73, 42, 58, 46, 77, 57, 55, 92, 80, 69, 59, 80, 67, 64, 66, 75])\n",
      "tensor([ 569,  497,  535,  497,  553,  577,  473, 1125,  663,  545,  575,  941,\n",
      "         615,  537,  607,  591])\n",
      "torch.int32\n",
      "torch.float32\n",
      "torch.float32\n",
      "torch.int64\n",
      "torch.int64\n"
     ]
    }
   ],
   "source": [
    "text, mel, img, text_len, mel_len = next(iter(train_loader))\n",
    "print(tuple(text.shape))\n",
    "print(tuple(mel.shape))\n",
    "print(tuple(img.shape))\n",
    "print(text_len)\n",
    "print(mel_len)\n",
    "print(text.dtype)\n",
    "print(mel.dtype)\n",
    "print(img.dtype)\n",
    "print(text_len.dtype)\n",
    "print(mel_len.dtype)"
   ]
  },
  {
   "cell_type": "markdown",
   "id": "6eb7138e",
   "metadata": {},
   "source": [
    "# 学習ループの実装"
   ]
  },
  {
   "cell_type": "code",
   "execution_count": 7,
   "id": "ec3fdcba",
   "metadata": {
    "scrolled": true
   },
   "outputs": [
    {
     "name": "stdout",
     "output_type": "stream",
     "text": [
      "Tacotron2(\n",
      "  (encoder): Encoder(\n",
      "    (embed): Embedding(32, 512, padding_idx=0)\n",
      "    (convolutions): Sequential(\n",
      "      (0): ConvNorm(\n",
      "        (conv): Conv1d(512, 512, kernel_size=(5,), stride=(1,), padding=(2,), bias=False)\n",
      "      )\n",
      "      (1): BatchNorm1d(512, eps=1e-05, momentum=0.1, affine=True, track_running_stats=True)\n",
      "      (2): ReLU()\n",
      "      (3): Dropout(p=0.5, inplace=False)\n",
      "      (4): ConvNorm(\n",
      "        (conv): Conv1d(512, 512, kernel_size=(5,), stride=(1,), padding=(2,), bias=False)\n",
      "      )\n",
      "      (5): BatchNorm1d(512, eps=1e-05, momentum=0.1, affine=True, track_running_stats=True)\n",
      "      (6): ReLU()\n",
      "      (7): Dropout(p=0.5, inplace=False)\n",
      "      (8): ConvNorm(\n",
      "        (conv): Conv1d(512, 512, kernel_size=(5,), stride=(1,), padding=(2,), bias=False)\n",
      "      )\n",
      "      (9): BatchNorm1d(512, eps=1e-05, momentum=0.1, affine=True, track_running_stats=True)\n",
      "      (10): ReLU()\n",
      "      (11): Dropout(p=0.5, inplace=False)\n",
      "    )\n",
      "    (blstm): LSTM(512, 256, batch_first=True, bidirectional=True)\n",
      "  )\n",
      "  (decoder): Decoder(\n",
      "    (attention_layer): Attention(\n",
      "      (query_layer): LinearNorm(\n",
      "        (linear_layer): Linear(in_features=1024, out_features=128, bias=False)\n",
      "      )\n",
      "      (memory_layer): LinearNorm(\n",
      "        (linear_layer): Linear(in_features=512, out_features=128, bias=False)\n",
      "      )\n",
      "      (location_layer): LocationLayer(\n",
      "        (location_conv): ConvNorm(\n",
      "          (conv): Conv1d(2, 32, kernel_size=(31,), stride=(1,), padding=(15,), bias=False)\n",
      "        )\n",
      "        (location_dense): LinearNorm(\n",
      "          (linear_layer): Linear(in_features=32, out_features=128, bias=False)\n",
      "        )\n",
      "      )\n",
      "      (v): LinearNorm(\n",
      "        (linear_layer): Linear(in_features=128, out_features=1, bias=False)\n",
      "      )\n",
      "    )\n",
      "    (prenet): Prenet(\n",
      "      (prenet): Sequential(\n",
      "        (0): LinearNorm(\n",
      "          (linear_layer): Linear(in_features=80, out_features=256, bias=False)\n",
      "        )\n",
      "        (1): ReLU()\n",
      "        (2): LinearNorm(\n",
      "          (linear_layer): Linear(in_features=256, out_features=256, bias=False)\n",
      "        )\n",
      "        (3): ReLU()\n",
      "      )\n",
      "    )\n",
      "    (attention_rnn): LSTMCell(896, 1024)\n",
      "    (decoder_rnn): LSTMCell(1536, 1024)\n",
      "    (proj_out): LinearNorm(\n",
      "      (linear_layer): Linear(in_features=1536, out_features=80, bias=False)\n",
      "    )\n",
      "    (image_layer): LinearNorm(\n",
      "      (linear_layer): Linear(in_features=512, out_features=128, bias=False)\n",
      "    )\n",
      "  )\n",
      "  (postnet): Postnet(\n",
      "    (convolutions): ModuleList(\n",
      "      (0): Sequential(\n",
      "        (0): ConvNorm(\n",
      "          (conv): Conv1d(80, 512, kernel_size=(5,), stride=(1,), padding=(2,))\n",
      "        )\n",
      "        (1): BatchNorm1d(512, eps=1e-05, momentum=0.1, affine=True, track_running_stats=True)\n",
      "      )\n",
      "      (1): Sequential(\n",
      "        (0): ConvNorm(\n",
      "          (conv): Conv1d(512, 512, kernel_size=(5,), stride=(1,), padding=(2,))\n",
      "        )\n",
      "        (1): BatchNorm1d(512, eps=1e-05, momentum=0.1, affine=True, track_running_stats=True)\n",
      "      )\n",
      "      (2): Sequential(\n",
      "        (0): ConvNorm(\n",
      "          (conv): Conv1d(512, 512, kernel_size=(5,), stride=(1,), padding=(2,))\n",
      "        )\n",
      "        (1): BatchNorm1d(512, eps=1e-05, momentum=0.1, affine=True, track_running_stats=True)\n",
      "      )\n",
      "      (3): Sequential(\n",
      "        (0): ConvNorm(\n",
      "          (conv): Conv1d(512, 512, kernel_size=(5,), stride=(1,), padding=(2,))\n",
      "        )\n",
      "        (1): BatchNorm1d(512, eps=1e-05, momentum=0.1, affine=True, track_running_stats=True)\n",
      "      )\n",
      "      (4): Sequential(\n",
      "        (0): ConvNorm(\n",
      "          (conv): Conv1d(512, 80, kernel_size=(5,), stride=(1,), padding=(2,))\n",
      "        )\n",
      "        (1): BatchNorm1d(80, eps=1e-05, momentum=0.1, affine=True, track_running_stats=True)\n",
      "      )\n",
      "    )\n",
      "  )\n",
      ")\n"
     ]
    }
   ],
   "source": [
    "# 学習モデル\n",
    "from img_Tacotron2 import Tacotron2\n",
    "\n",
    "net = Tacotron2()\n",
    "net.cuda()  # GPU対応\n",
    "print(net)"
   ]
  },
  {
   "cell_type": "code",
   "execution_count": 7,
   "id": "ef86e53a",
   "metadata": {},
   "outputs": [
    {
     "name": "stdout",
     "output_type": "stream",
     "text": [
      "Tacotron2(\n",
      "  (encoder): Encoder(\n",
      "    (embed): Embedding(32, 512, padding_idx=0)\n",
      "    (convolutions): Sequential(\n",
      "      (0): ConvNorm(\n",
      "        (conv): Conv1d(512, 512, kernel_size=(5,), stride=(1,), padding=(2,), bias=False)\n",
      "      )\n",
      "      (1): BatchNorm1d(512, eps=1e-05, momentum=0.1, affine=True, track_running_stats=True)\n",
      "      (2): ReLU()\n",
      "      (3): Dropout(p=0.5, inplace=False)\n",
      "      (4): ConvNorm(\n",
      "        (conv): Conv1d(512, 512, kernel_size=(5,), stride=(1,), padding=(2,), bias=False)\n",
      "      )\n",
      "      (5): BatchNorm1d(512, eps=1e-05, momentum=0.1, affine=True, track_running_stats=True)\n",
      "      (6): ReLU()\n",
      "      (7): Dropout(p=0.5, inplace=False)\n",
      "      (8): ConvNorm(\n",
      "        (conv): Conv1d(512, 512, kernel_size=(5,), stride=(1,), padding=(2,), bias=False)\n",
      "      )\n",
      "      (9): BatchNorm1d(512, eps=1e-05, momentum=0.1, affine=True, track_running_stats=True)\n",
      "      (10): ReLU()\n",
      "      (11): Dropout(p=0.5, inplace=False)\n",
      "    )\n",
      "    (blstm): LSTM(512, 256, batch_first=True, bidirectional=True)\n",
      "  )\n",
      "  (decoder): Decoder(\n",
      "    (attention_layer): Attention(\n",
      "      (query_layer): LinearNorm(\n",
      "        (linear_layer): Linear(in_features=1024, out_features=128, bias=False)\n",
      "      )\n",
      "      (memory_layer): LinearNorm(\n",
      "        (linear_layer): Linear(in_features=512, out_features=128, bias=False)\n",
      "      )\n",
      "      (location_layer): LocationLayer(\n",
      "        (location_conv): ConvNorm(\n",
      "          (conv): Conv1d(2, 32, kernel_size=(31,), stride=(1,), padding=(15,), bias=False)\n",
      "        )\n",
      "        (location_dense): LinearNorm(\n",
      "          (linear_layer): Linear(in_features=32, out_features=128, bias=False)\n",
      "        )\n",
      "      )\n",
      "      (v): LinearNorm(\n",
      "        (linear_layer): Linear(in_features=128, out_features=1, bias=False)\n",
      "      )\n",
      "    )\n",
      "    (prenet): Prenet(\n",
      "      (prenet): Sequential(\n",
      "        (0): LinearNorm(\n",
      "          (linear_layer): Linear(in_features=80, out_features=256, bias=False)\n",
      "        )\n",
      "        (1): ReLU()\n",
      "        (2): LinearNorm(\n",
      "          (linear_layer): Linear(in_features=256, out_features=256, bias=False)\n",
      "        )\n",
      "        (3): ReLU()\n",
      "      )\n",
      "    )\n",
      "    (attention_rnn): LSTMCell(896, 1024)\n",
      "    (decoder_rnn): LSTMCell(1536, 1024)\n",
      "    (proj_out): LinearNorm(\n",
      "      (linear_layer): Linear(in_features=1536, out_features=80, bias=False)\n",
      "    )\n",
      "    (image_layer): LinearNorm(\n",
      "      (linear_layer): Linear(in_features=512, out_features=128, bias=False)\n",
      "    )\n",
      "  )\n",
      "  (postnet): Postnet(\n",
      "    (convolutions): ModuleList(\n",
      "      (0): Sequential(\n",
      "        (0): ConvNorm(\n",
      "          (conv): Conv1d(80, 512, kernel_size=(5,), stride=(1,), padding=(2,))\n",
      "        )\n",
      "        (1): BatchNorm1d(512, eps=1e-05, momentum=0.1, affine=True, track_running_stats=True)\n",
      "      )\n",
      "      (1-3): 3 x Sequential(\n",
      "        (0): ConvNorm(\n",
      "          (conv): Conv1d(512, 512, kernel_size=(5,), stride=(1,), padding=(2,))\n",
      "        )\n",
      "        (1): BatchNorm1d(512, eps=1e-05, momentum=0.1, affine=True, track_running_stats=True)\n",
      "      )\n",
      "      (4): Sequential(\n",
      "        (0): ConvNorm(\n",
      "          (conv): Conv1d(512, 80, kernel_size=(5,), stride=(1,), padding=(2,))\n",
      "        )\n",
      "        (1): BatchNorm1d(80, eps=1e-05, momentum=0.1, affine=True, track_running_stats=True)\n",
      "      )\n",
      "    )\n",
      "  )\n",
      ")\n"
     ]
    }
   ],
   "source": [
    "from img_Tacotron2 import Tacotron2\n",
    "\n",
    "MODEL_DIR = \"F:/model/D4/model300_100_n\"\n",
    "net = Tacotron2()\n",
    "net.load_state_dict(torch.load(MODEL_DIR))\n",
    "net.cuda()  # GPU対応\n",
    "print(net)"
   ]
  },
  {
   "cell_type": "code",
   "execution_count": 8,
   "id": "ec0a5219",
   "metadata": {},
   "outputs": [],
   "source": [
    "def get_mask_from_lengths(lengths):\n",
    "    \"\"\"\n",
    "    MEMO\n",
    "    -------\n",
    "    torch.maxは与えられたテンソルの最大値を返す関数\n",
    "    .item()でテンソルの要素をpython組み込み型として取得\n",
    "    torch.arangeは第一引数から第二引数まで第三引数間隔のテンソルが生成される\n",
    "    \"\"\"\n",
    "    max_len = torch.max(lengths).item()\n",
    "    ids = torch.arange(0, max_len, device=lengths.device, dtype=lengths.dtype)\n",
    "    mask = (ids < lengths.unsqueeze(1)).byte()\n",
    "    mask = torch.le(mask, 0)\n",
    "    return mask"
   ]
  },
  {
   "cell_type": "code",
   "execution_count": 9,
   "id": "75a89c5d",
   "metadata": {},
   "outputs": [
    {
     "name": "stdout",
     "output_type": "stream",
     "text": [
      "torch.Size([16, 719])\n"
     ]
    }
   ],
   "source": [
    "mask = ~get_mask_from_lengths(mel_len)\n",
    "print(mask.shape)"
   ]
  },
  {
   "cell_type": "code",
   "execution_count": 10,
   "id": "e3360d51",
   "metadata": {
    "scrolled": false
   },
   "outputs": [
    {
     "name": "stdout",
     "output_type": "stream",
     "text": [
      "Epoch: 0 Loss_Train: 0.0034332783141220167 Loss_Test: 0.002845337839219077\n",
      "Epoch: 1 Loss_Train: 0.0034022282640014606 Loss_Test: 0.0028352501304370575\n",
      "Epoch: 2 Loss_Train: 0.003391903854769917 Loss_Test: 0.0028409996423228033\n",
      "Epoch: 3 Loss_Train: 0.0033798157965627762 Loss_Test: 0.002843296083075733\n",
      "Epoch: 4 Loss_Train: 0.0033738273267839174 Loss_Test: 0.0028428441106245436\n",
      "Epoch: 5 Loss_Train: 0.003366948520714367 Loss_Test: 0.002847144958274118\n",
      "Epoch: 6 Loss_Train: 0.003361204789203509 Loss_Test: 0.002839262549091002\n",
      "Epoch: 7 Loss_Train: 0.003355427148021959 Loss_Test: 0.002845324383213602\n",
      "Epoch: 8 Loss_Train: 0.0033531806972884647 Loss_Test: 0.002851072152883842\n",
      "Epoch: 9 Loss_Train: 0.003347528654305286 Loss_Test: 0.0028451510207277947\n"
     ]
    }
   ],
   "source": [
    "from torch import optim\n",
    "import torch.nn as nn\n",
    "\n",
    "# 平均二乗誤差\n",
    "loss_fnc = nn.MSELoss()\n",
    "\n",
    "# 最適化アルゴリズム\n",
    "optimizer = optim.Adam(net.parameters(), lr=0.0001)\n",
    "\n",
    "lr_scheduler = optim.lr_scheduler.StepLR(optimizer, gamma=0.5, step_size=100000)\n",
    "\n",
    "# 損失のログ\n",
    "record_loss_train = []\n",
    "record_loss_test = []\n",
    "\n",
    "# エポック数\n",
    "epoch = 10\n",
    "\n",
    "for i in range(epoch):\n",
    "    net.train()\n",
    "    loss_train = 0\n",
    "    for j, (text, mel, img, text_len, mel_len) in enumerate(train_loader):\n",
    "        \n",
    "        text_len, indices = torch.sort(text_len, dim=0, descending=True)\n",
    "        text, mel, img, mel_len = text[indices], mel[indices], img[indices], mel_len[indices]  \n",
    "        text, mel, img = text.cuda(), mel.float().cuda(), img.cuda()\n",
    "        \n",
    "        # 順伝播\n",
    "        outs, outs_fine, att_ws = net(text, text_len, img, mel.transpose(1, 2))\n",
    "        \n",
    "        # ゼロパディングを除くためにマスクを適用\n",
    "        mask = ~get_mask_from_lengths(mel_len).unsqueeze(-1).to(mel.device)\n",
    "        mel = mel.masked_select(mask)\n",
    "        outs = outs.masked_select(mask)\n",
    "        outs_fine = outs_fine.masked_select(mask)\n",
    "        \n",
    "        # 損失の計算\n",
    "        decoder_out_loss = loss_fnc(outs, mel)\n",
    "        postnet_out_loss = loss_fnc(outs_fine, mel)\n",
    "        \n",
    "        # 損失の合計\n",
    "        loss = decoder_out_loss + postnet_out_loss\n",
    "        \n",
    "        loss_train += loss.item()\n",
    "        \n",
    "        optimizer.zero_grad()\n",
    "        loss.backward()\n",
    "        optimizer.step()\n",
    "        lr_scheduler.step()\n",
    "        \n",
    "    loss_train /= j+1\n",
    "    record_loss_train.append(loss_train)\n",
    "    \n",
    "    net.eval()\n",
    "    loss_test = 0\n",
    "    for j, (text, mel, img, text_len, mel_len) in enumerate(test_loader):\n",
    "        text_len, indices = torch.sort(text_len, dim=0, descending=True)\n",
    "        text, mel, img, mel_len = text[indices], mel[indices], img[indices], mel_len[indices]  \n",
    "        text, mel, img = text.cuda(), mel.float().cuda(), img.cuda()\n",
    "        \n",
    "        # 順伝播\n",
    "        outs, outs_fine, att_ws = net(text, text_len, img, mel.transpose(1, 2))\n",
    "        \n",
    "        # ゼロパディングを除くためにマスクを適用\n",
    "        mask = ~get_mask_from_lengths(mel_len).unsqueeze(-1).to(mel.device)\n",
    "        mel = mel.masked_select(mask)\n",
    "        outs = outs.masked_select(mask)\n",
    "        outs_fine = outs_fine.masked_select(mask)\n",
    "        \n",
    "        # 損失の計算\n",
    "        decoder_out_loss = loss_fnc(outs, mel)\n",
    "        postnet_out_loss = loss_fnc(outs_fine, mel)\n",
    "        \n",
    "        # 損失の合計\n",
    "        loss = decoder_out_loss + postnet_out_loss\n",
    "        \n",
    "        loss_test += loss.item()\n",
    "        \n",
    "    loss_test /= j+1\n",
    "    record_loss_test.append(loss_test)\n",
    "    \n",
    "    if i%1 == 0:\n",
    "        print(\"Epoch:\", i, \"Loss_Train:\", loss_train, \"Loss_Test:\", loss_test)\n"
   ]
  },
  {
   "cell_type": "code",
   "execution_count": 11,
   "id": "92f6f8f2",
   "metadata": {},
   "outputs": [
    {
     "data": {
      "image/png": "[encoded data removed]",
      "text/plain": [
       "<Figure size 640x480 with 1 Axes>"
      ]
     },
     "metadata": {},
     "output_type": "display_data"
    }
   ],
   "source": [
    "# 誤差の推移\n",
    "import matplotlib.pyplot as plt\n",
    "\n",
    "plt.plot(range(len(record_loss_train)), record_loss_train, label=\"Train\")\n",
    "plt.plot(range(len(record_loss_test)), record_loss_test, label=\"Test\")\n",
    "plt.legend()\n",
    "\n",
    "plt.xlabel(\"Epochs\")\n",
    "plt.ylabel(\"Error\")\n",
    "plt.show()"
   ]
  },
  {
   "cell_type": "code",
   "execution_count": 12,
   "id": "67f001fa",
   "metadata": {},
   "outputs": [],
   "source": [
    "MODEL_DIR = \"F:/model/D4/model300_110_n\"\n",
    "torch.save(net.state_dict(), MODEL_DIR)"
   ]
  },
  {
   "cell_type": "code",
   "execution_count": 15,
   "id": "bbcfefaf",
   "metadata": {},
   "outputs": [
    {
     "ename": "AttributeError",
     "evalue": "'list' object has no attribute 'dtype'",
     "output_type": "error",
     "traceback": [
      "\u001b[1;31m---------------------------------------------------------------------------\u001b[0m",
      "\u001b[1;31mAttributeError\u001b[0m                            Traceback (most recent call last)",
      "Cell \u001b[1;32mIn[15], line 1\u001b[0m\n\u001b[1;32m----> 1\u001b[0m \u001b[38;5;28mprint\u001b[39m(\u001b[43mrecord_loss_train\u001b[49m\u001b[38;5;241;43m.\u001b[39;49m\u001b[43mdtype\u001b[49m)\n",
      "\u001b[1;31mAttributeError\u001b[0m: 'list' object has no attribute 'dtype'"
     ]
    }
   ],
   "source": [
    "print(record_loss_train.dtype)"
   ]
  },
  {
   "cell_type": "code",
   "execution_count": 14,
   "id": "9fe987eb",
   "metadata": {},
   "outputs": [],
   "source": [
    "LOSS_TRAIN_DIR = \"F:/model/D4/model300_loss_train.npy\"\n",
    "LOSS_TEST_DIR = \"F:/model/D4/model300_loss_test.npy\"\n",
    "\n",
    "loss_train = np.array(record_loss_train)\n",
    "loss_test = np.array(record_loss_test)\n",
    "\n",
    "np.save(LOSS_TRAIN_DIR, loss_train)\n",
    "np.save(LOSS_TEST_DIR, loss_test)"
   ]
  },
  {
   "cell_type": "markdown",
   "id": "6d6be4df",
   "metadata": {},
   "source": [
    "# モデルの読み込み、推論"
   ]
  },
  {
   "cell_type": "code",
   "execution_count": 7,
   "id": "ca6d18f6",
   "metadata": {},
   "outputs": [
    {
     "data": {
      "text/plain": [
       "<All keys matched successfully>"
      ]
     },
     "execution_count": 7,
     "metadata": {},
     "output_type": "execute_result"
    }
   ],
   "source": [
    "from img_Tacotron2 import Tacotron2\n",
    "\n",
    "MODEL_DIR = \"F:/model/D4/model300_43_n\"\n",
    "net2 = Tacotron2()\n",
    "net2.load_state_dict(torch.load(MODEL_DIR))"
   ]
  },
  {
   "cell_type": "code",
   "execution_count": 8,
   "id": "9cf669d8",
   "metadata": {},
   "outputs": [
    {
     "data": {
      "text/plain": [
       "Tacotron2(\n",
       "  (encoder): Encoder(\n",
       "    (embed): Embedding(32, 512, padding_idx=0)\n",
       "    (convolutions): Sequential(\n",
       "      (0): ConvNorm(\n",
       "        (conv): Conv1d(512, 512, kernel_size=(5,), stride=(1,), padding=(2,), bias=False)\n",
       "      )\n",
       "      (1): BatchNorm1d(512, eps=1e-05, momentum=0.1, affine=True, track_running_stats=True)\n",
       "      (2): ReLU()\n",
       "      (3): Dropout(p=0.5, inplace=False)\n",
       "      (4): ConvNorm(\n",
       "        (conv): Conv1d(512, 512, kernel_size=(5,), stride=(1,), padding=(2,), bias=False)\n",
       "      )\n",
       "      (5): BatchNorm1d(512, eps=1e-05, momentum=0.1, affine=True, track_running_stats=True)\n",
       "      (6): ReLU()\n",
       "      (7): Dropout(p=0.5, inplace=False)\n",
       "      (8): ConvNorm(\n",
       "        (conv): Conv1d(512, 512, kernel_size=(5,), stride=(1,), padding=(2,), bias=False)\n",
       "      )\n",
       "      (9): BatchNorm1d(512, eps=1e-05, momentum=0.1, affine=True, track_running_stats=True)\n",
       "      (10): ReLU()\n",
       "      (11): Dropout(p=0.5, inplace=False)\n",
       "    )\n",
       "    (blstm): LSTM(512, 256, batch_first=True, bidirectional=True)\n",
       "  )\n",
       "  (decoder): Decoder(\n",
       "    (attention_layer): Attention(\n",
       "      (query_layer): LinearNorm(\n",
       "        (linear_layer): Linear(in_features=1024, out_features=128, bias=False)\n",
       "      )\n",
       "      (memory_layer): LinearNorm(\n",
       "        (linear_layer): Linear(in_features=512, out_features=128, bias=False)\n",
       "      )\n",
       "      (location_layer): LocationLayer(\n",
       "        (location_conv): ConvNorm(\n",
       "          (conv): Conv1d(2, 32, kernel_size=(31,), stride=(1,), padding=(15,), bias=False)\n",
       "        )\n",
       "        (location_dense): LinearNorm(\n",
       "          (linear_layer): Linear(in_features=32, out_features=128, bias=False)\n",
       "        )\n",
       "      )\n",
       "      (v): LinearNorm(\n",
       "        (linear_layer): Linear(in_features=128, out_features=1, bias=False)\n",
       "      )\n",
       "    )\n",
       "    (prenet): Prenet(\n",
       "      (prenet): Sequential(\n",
       "        (0): LinearNorm(\n",
       "          (linear_layer): Linear(in_features=80, out_features=256, bias=False)\n",
       "        )\n",
       "        (1): ReLU()\n",
       "        (2): LinearNorm(\n",
       "          (linear_layer): Linear(in_features=256, out_features=256, bias=False)\n",
       "        )\n",
       "        (3): ReLU()\n",
       "      )\n",
       "    )\n",
       "    (attention_rnn): LSTMCell(896, 1024)\n",
       "    (decoder_rnn): LSTMCell(1536, 1024)\n",
       "    (proj_out): LinearNorm(\n",
       "      (linear_layer): Linear(in_features=1536, out_features=80, bias=False)\n",
       "    )\n",
       "    (image_layer): LinearNorm(\n",
       "      (linear_layer): Linear(in_features=512, out_features=128, bias=False)\n",
       "    )\n",
       "  )\n",
       "  (postnet): Postnet(\n",
       "    (convolutions): ModuleList(\n",
       "      (0): Sequential(\n",
       "        (0): ConvNorm(\n",
       "          (conv): Conv1d(80, 512, kernel_size=(5,), stride=(1,), padding=(2,))\n",
       "        )\n",
       "        (1): BatchNorm1d(512, eps=1e-05, momentum=0.1, affine=True, track_running_stats=True)\n",
       "      )\n",
       "      (1-3): 3 x Sequential(\n",
       "        (0): ConvNorm(\n",
       "          (conv): Conv1d(512, 512, kernel_size=(5,), stride=(1,), padding=(2,))\n",
       "        )\n",
       "        (1): BatchNorm1d(512, eps=1e-05, momentum=0.1, affine=True, track_running_stats=True)\n",
       "      )\n",
       "      (4): Sequential(\n",
       "        (0): ConvNorm(\n",
       "          (conv): Conv1d(512, 80, kernel_size=(5,), stride=(1,), padding=(2,))\n",
       "        )\n",
       "        (1): BatchNorm1d(80, eps=1e-05, momentum=0.1, affine=True, track_running_stats=True)\n",
       "      )\n",
       "    )\n",
       "  )\n",
       ")"
      ]
     },
     "execution_count": 8,
     "metadata": {},
     "output_type": "execute_result"
    }
   ],
   "source": [
    "net2.cuda()"
   ]
  },
  {
   "cell_type": "code",
   "execution_count": 9,
   "id": "e1da6a34",
   "metadata": {},
   "outputs": [],
   "source": [
    "from torch.utils.data import DataLoader\n",
    "\n",
    "data_loader = DataLoader(test_dataset, batch_size=1, collate_fn=collate_fn, shuffle=True)\n",
    "text, mel, img, text_len, mel_len = next(iter(data_loader))\n",
    "\n",
    "#plt.imshow(image[0].permute(1, 2, 0))\n",
    "#print(image)\n",
    "\n",
    "net2.eval()\n",
    "text, img = text.cuda(), img.cuda()"
   ]
  },
  {
   "cell_type": "code",
   "execution_count": 10,
   "id": "ef3f7320",
   "metadata": {},
   "outputs": [],
   "source": [
    "from torch.utils.data import DataLoader\n",
    "\n",
    "data_loader2 = DataLoader(test_dataset, batch_size=1, collate_fn=collate_fn, shuffle=True)\n",
    "text2, mel2, img2, text_len2, mel_len2 = next(iter(data_loader))\n",
    "\n",
    "#plt.imshow(image[0].permute(1, 2, 0))\n",
    "#print(image)\n",
    "\n",
    "text2, img2 = text2.cuda(), img2.cuda()"
   ]
  },
  {
   "cell_type": "code",
   "execution_count": 11,
   "id": "83bbe16b",
   "metadata": {},
   "outputs": [
    {
     "name": "stdout",
     "output_type": "stream",
     "text": [
      "(1, 73)\n",
      "(1, 617, 80)\n",
      "(1, 617, 512)\n",
      "tensor([73])\n",
      "tensor([617])\n",
      "torch.int32\n",
      "torch.float32\n",
      "torch.float32\n",
      "torch.int64\n",
      "torch.int64\n"
     ]
    }
   ],
   "source": [
    "print(tuple(text.shape))\n",
    "print(tuple(mel.shape))\n",
    "print(tuple(img.shape))\n",
    "print(text_len)\n",
    "print(mel_len)\n",
    "print(text.dtype)\n",
    "print(mel.dtype)\n",
    "print(img.dtype)\n",
    "print(text_len.dtype)\n",
    "print(mel_len.dtype)"
   ]
  },
  {
   "cell_type": "code",
   "execution_count": 12,
   "id": "ae55e597",
   "metadata": {},
   "outputs": [
    {
     "name": "stdout",
     "output_type": "stream",
     "text": [
      "(1, 46)\n",
      "(1, 369, 80)\n",
      "(1, 369, 512)\n",
      "tensor([46])\n",
      "tensor([369])\n",
      "torch.int32\n",
      "torch.float32\n",
      "torch.float32\n",
      "torch.int64\n",
      "torch.int64\n"
     ]
    }
   ],
   "source": [
    "print(tuple(text2.shape))\n",
    "print(tuple(mel2.shape))\n",
    "print(tuple(img2.shape))\n",
    "print(text_len2)\n",
    "print(mel_len2)\n",
    "print(text2.dtype)\n",
    "print(mel2.dtype)\n",
    "print(img2.dtype)\n",
    "print(text_len2.dtype)\n",
    "print(mel_len2.dtype)"
   ]
  },
  {
   "cell_type": "code",
   "execution_count": 13,
   "id": "8450ce9d",
   "metadata": {},
   "outputs": [],
   "source": [
    "outs, outs_fine, att_ws = net2.inference(text, text_len, img)"
   ]
  },
  {
   "cell_type": "code",
   "execution_count": 14,
   "id": "10f8e229",
   "metadata": {},
   "outputs": [],
   "source": [
    "outs2, outs_fine2, att_ws2 = net2.inference(text2, text_len2, img2)"
   ]
  },
  {
   "cell_type": "code",
   "execution_count": 15,
   "id": "466c9731",
   "metadata": {},
   "outputs": [],
   "source": [
    "outs3, outs_fine3, att_ws3 = net2.inference(text2, text_len2, img)"
   ]
  },
  {
   "cell_type": "code",
   "execution_count": 16,
   "id": "532ba10a",
   "metadata": {},
   "outputs": [],
   "source": [
    "import matplotlib.pyplot as plt\n",
    "\n",
    "def plot_attention(alignment):\n",
    "    \"\"\"Plot attention.\n",
    "    Args:\n",
    "        alignment (np.ndarray): Attention.\n",
    "    \"\"\"\n",
    "    fig, ax = plt.subplots()\n",
    "    alignment = alignment.cpu().data.numpy().T\n",
    "    im = ax.imshow(alignment, aspect=\"auto\", origin=\"lower\", interpolation=\"none\")\n",
    "    fig.colorbar(im, ax=ax)\n",
    "    plt.xlabel(\"Decoder time step\")\n",
    "    plt.ylabel(\"Encoder time step\")\n",
    "    #return fig"
   ]
  },
  {
   "cell_type": "code",
   "execution_count": 17,
   "id": "ff3164fd",
   "metadata": {
    "scrolled": true
   },
   "outputs": [
    {
     "name": "stdout",
     "output_type": "stream",
     "text": [
      "torch.Size([1, 689, 67])\n"
     ]
    },
    {
     "data": {
      "image/png": "[encoded data removed]",
      "text/plain": [
       "<Figure size 640x480 with 2 Axes>"
      ]
     },
     "metadata": {},
     "output_type": "display_data"
    }
   ],
   "source": [
    "print(att_ws.shape)\n",
    "plot_attention(att_ws)"
   ]
  },
  {
   "cell_type": "code",
   "execution_count": 18,
   "id": "0771d1c2",
   "metadata": {
    "scrolled": true
   },
   "outputs": [
    {
     "name": "stdout",
     "output_type": "stream",
     "text": [
      "torch.Size([1, 369, 46])\n"
     ]
    },
    {
     "data": {
      "image/png": "[encoded data removed]",
      "text/plain": [
       "<Figure size 640x480 with 2 Axes>"
      ]
     },
     "metadata": {},
     "output_type": "display_data"
    }
   ],
   "source": [
    "print(att_ws2.shape)\n",
    "plot_attention(att_ws2)"
   ]
  },
  {
   "cell_type": "code",
   "execution_count": 19,
   "id": "45be3535",
   "metadata": {},
   "outputs": [
    {
     "name": "stdout",
     "output_type": "stream",
     "text": [
      "torch.Size([1, 689, 46])\n"
     ]
    },
    {
     "data": {
      "image/png": "[encoded data removed]",
      "text/plain": [
       "<Figure size 640x480 with 2 Axes>"
      ]
     },
     "metadata": {},
     "output_type": "display_data"
    }
   ],
   "source": [
    "print(att_ws3.shape)\n",
    "plot_attention(att_ws3)"
   ]
  },
  {
   "cell_type": "code",
   "execution_count": 20,
   "id": "9491aa9a",
   "metadata": {},
   "outputs": [
    {
     "name": "stdout",
     "output_type": "stream",
     "text": [
      "(1, 369, 80)\n",
      "(1, 369, 80)\n"
     ]
    }
   ],
   "source": [
    "outs2 = outs2.to('cpu').detach().numpy()\n",
    "print(outs2.shape)\n",
    "outs_fine2 = outs_fine2.to('cpu').detach().numpy()\n",
    "print(outs_fine2.shape)\n",
    "#text3 = text3.to('cpu').detach().numpy()\n",
    "#print(text.shape)"
   ]
  },
  {
   "cell_type": "code",
   "execution_count": 21,
   "id": "4d2ebac9",
   "metadata": {},
   "outputs": [
    {
     "name": "stdout",
     "output_type": "stream",
     "text": [
      "torch.Size([1, 689, 80])\n",
      "torch.Size([1, 689, 80])\n"
     ]
    }
   ],
   "source": [
    "outs3 = outs3.to('cpu').detach().numpy()\n",
    "print(outs.shape)\n",
    "outs_fine3 = outs_fine3.to('cpu').detach().numpy()\n",
    "print(outs_fine.shape)\n",
    "#text3 = text3.to('cpu').detach().numpy()\n",
    "#print(text.shape)"
   ]
  },
  {
   "cell_type": "code",
   "execution_count": 68,
   "id": "deabe10b",
   "metadata": {},
   "outputs": [],
   "source": [
    "OUTPUT_PATH = \"F:/ROHAN4600マルチモーダルデータベース/mel_outs_n/\"\n",
    "outsdir = OUTPUT_PATH + \"outs_4.npy\"\n",
    "outsfinedir = OUTPUT_PATH + \"outs_fine_4.npy\"\n",
    "meldir = OUTPUT_PATH + \"mel_4.npy\"\n",
    "#textdir = OUTPUT_PATH + \"text_5.npy\"\n",
    "np.save(outsdir, outs2)\n",
    "np.save(outsfinedir, outs_fine2)\n",
    "np.save(meldir, mel2)\n",
    "#np.save(textdir, text)"
   ]
  },
  {
   "cell_type": "code",
   "execution_count": 22,
   "id": "750f7531",
   "metadata": {},
   "outputs": [],
   "source": [
    "OUTPUT_PATH = \"F:/ROHAN4600マルチモーダルデータベース/mel_outs_n/\"\n",
    "outsdir = OUTPUT_PATH + \"outs_4.npy\"\n",
    "outsfinedir = OUTPUT_PATH + \"outs_fine_4.npy\"\n",
    "meldir = OUTPUT_PATH + \"mel_4.npy\"\n",
    "#textdir = OUTPUT_PATH + \"text_5.npy\"\n",
    "np.save(outsdir, outs3)\n",
    "np.save(outsfinedir, outs_fine3)\n",
    "np.save(meldir, mel2)\n",
    "#np.save(textdir, text)"
   ]
  },
  {
   "cell_type": "code",
   "execution_count": null,
   "id": "0a816839",
   "metadata": {},
   "outputs": [],
   "source": []
  }
 ],
 "metadata": {
  "kernelspec": {
   "display_name": "Python 3 (ipykernel)",
   "language": "python",
   "name": "python3"
  },
  "language_info": {
   "codemirror_mode": {
    "name": "ipython",
    "version": 3
   },
   "file_extension": ".py",
   "mimetype": "text/x-python",
   "name": "python",
   "nbconvert_exporter": "python",
   "pygments_lexer": "ipython3",
   "version": "3.9.15"
  }
 },
 "nbformat": 4,
 "nbformat_minor": 5
}
